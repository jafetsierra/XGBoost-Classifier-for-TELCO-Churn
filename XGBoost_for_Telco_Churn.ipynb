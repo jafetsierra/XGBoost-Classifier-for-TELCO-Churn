{
  "nbformat": 4,
  "nbformat_minor": 0,
  "metadata": {
    "colab": {
      "name": "XGBoost_for_Telco_Churn.ipynb",
      "provenance": [],
      "collapsed_sections": []
    },
    "kernelspec": {
      "name": "python3",
      "display_name": "Python 3"
    },
    "language_info": {
      "name": "python"
    }
  },
  "cells": [
    {
      "cell_type": "markdown",
      "source": [
        "# XGBoost Classifier for TELCO-Churn dataset"
      ],
      "metadata": {
        "id": "eIvvubAw8ftk"
      }
    },
    {
      "cell_type": "code",
      "execution_count": 1,
      "metadata": {
        "colab": {
          "base_uri": "https://localhost:8080/"
        },
        "id": "hWjjVEfw31qB",
        "outputId": "b01e8319-265c-4e4d-d6d6-398e42295fb6"
      },
      "outputs": [
        {
          "output_type": "stream",
          "name": "stdout",
          "text": [
            "Requirement already satisfied: xgboost in /usr/local/lib/python3.7/dist-packages (0.90)\n",
            "Requirement already satisfied: scipy in /usr/local/lib/python3.7/dist-packages (from xgboost) (1.4.1)\n",
            "Requirement already satisfied: numpy in /usr/local/lib/python3.7/dist-packages (from xgboost) (1.19.5)\n"
          ]
        }
      ],
      "source": [
        "import pandas as pd\n",
        "import numpy as np\n",
        "import matplotlib.pyplot as plt\n",
        "from sklearn.metrics import confusion_matrix, plot_confusion_matrix, roc_auc_score, balanced_accuracy_score\n",
        "from sklearn.model_selection import train_test_split, GridSearchCV\n",
        "!pip install xgboost\n",
        "import xgboost as xgb"
      ]
    },
    {
      "cell_type": "code",
      "source": [
        "df = pd.read_csv('Telco-Churn.csv')\n",
        "#df"
      ],
      "metadata": {
        "id": "d5KwbmqP4XAg"
      },
      "execution_count": 3,
      "outputs": []
    },
    {
      "cell_type": "code",
      "source": [
        "df.drop(['customerID'],axis=1,inplace=True)"
      ],
      "metadata": {
        "id": "HCAS6wLh8NV5"
      },
      "execution_count": 4,
      "outputs": []
    },
    {
      "cell_type": "code",
      "source": [
        "df.columns"
      ],
      "metadata": {
        "colab": {
          "base_uri": "https://localhost:8080/"
        },
        "id": "wyd25z5T-i-x",
        "outputId": "b7dda9fb-a8db-4335-d391-f73dd3fa2cab"
      },
      "execution_count": 5,
      "outputs": [
        {
          "output_type": "execute_result",
          "data": {
            "text/plain": [
              "Index(['gender', 'SeniorCitizen', 'Partner', 'Dependents', 'tenure',\n",
              "       'PhoneService', 'MultipleLines', 'InternetService', 'OnlineSecurity',\n",
              "       'OnlineBackup', 'DeviceProtection', 'TechSupport', 'StreamingTV',\n",
              "       'StreamingMovies', 'Contract', 'PaperlessBilling', 'PaymentMethod',\n",
              "       'MonthlyCharges', 'TotalCharges', 'Churn'],\n",
              "      dtype='object')"
            ]
          },
          "metadata": {},
          "execution_count": 5
        }
      ]
    },
    {
      "cell_type": "code",
      "source": [
        "#Looking for mising data\n",
        "df.isna().sum()"
      ],
      "metadata": {
        "colab": {
          "base_uri": "https://localhost:8080/"
        },
        "id": "xuZV21Un-8Ro",
        "outputId": "0c1a8a28-e1cb-4a4f-b9e4-34e2e873a578"
      },
      "execution_count": 6,
      "outputs": [
        {
          "output_type": "execute_result",
          "data": {
            "text/plain": [
              "gender              0\n",
              "SeniorCitizen       0\n",
              "Partner             0\n",
              "Dependents          0\n",
              "tenure              0\n",
              "PhoneService        0\n",
              "MultipleLines       0\n",
              "InternetService     0\n",
              "OnlineSecurity      0\n",
              "OnlineBackup        0\n",
              "DeviceProtection    0\n",
              "TechSupport         0\n",
              "StreamingTV         0\n",
              "StreamingMovies     0\n",
              "Contract            0\n",
              "PaperlessBilling    0\n",
              "PaymentMethod       0\n",
              "MonthlyCharges      0\n",
              "TotalCharges        0\n",
              "Churn               0\n",
              "dtype: int64"
            ]
          },
          "metadata": {},
          "execution_count": 6
        }
      ]
    },
    {
      "cell_type": "code",
      "source": [
        "#Check for the dtype of each column\n",
        "df.dtypes"
      ],
      "metadata": {
        "colab": {
          "base_uri": "https://localhost:8080/"
        },
        "id": "vYdmZQ_R_jZy",
        "outputId": "687838c8-1776-4890-8254-c85f849af423"
      },
      "execution_count": 7,
      "outputs": [
        {
          "output_type": "execute_result",
          "data": {
            "text/plain": [
              "gender               object\n",
              "SeniorCitizen         int64\n",
              "Partner              object\n",
              "Dependents           object\n",
              "tenure                int64\n",
              "PhoneService         object\n",
              "MultipleLines        object\n",
              "InternetService      object\n",
              "OnlineSecurity       object\n",
              "OnlineBackup         object\n",
              "DeviceProtection     object\n",
              "TechSupport          object\n",
              "StreamingTV          object\n",
              "StreamingMovies      object\n",
              "Contract             object\n",
              "PaperlessBilling     object\n",
              "PaymentMethod        object\n",
              "MonthlyCharges      float64\n",
              "TotalCharges         object\n",
              "Churn                object\n",
              "dtype: object"
            ]
          },
          "metadata": {},
          "execution_count": 7
        }
      ]
    },
    {
      "cell_type": "code",
      "source": [
        "#Ahora queremos cambiar el tipo de dato a numerico\n",
        "#df['TotalCharges'].unique()\n",
        "\n",
        "#Pero dado que hay espacios en blanco no se puede aplicar el cambio, por lo que cambiamos esos valores en blanco a cero\n",
        "df.loc[df['TotalCharges'] == ' ','TotalCharges'] = 0\n",
        "#Y  ahora si cambiamos el tipo\n",
        "df['TotalCharges'] = pd.to_numeric(df['TotalCharges'])"
      ],
      "metadata": {
        "id": "-GokeEt-_u-R"
      },
      "execution_count": 8,
      "outputs": []
    },
    {
      "cell_type": "code",
      "source": [
        "#df.dtypes"
      ],
      "metadata": {
        "id": "guil_UyH_7Ip"
      },
      "execution_count": 9,
      "outputs": []
    },
    {
      "cell_type": "code",
      "source": [
        "#Cambiamos todos los espacios en blanco por underscore\n",
        "df.replace(' ','_',regex=True, inplace=True)"
      ],
      "metadata": {
        "id": "-YZAkSyEBeNx"
      },
      "execution_count": 10,
      "outputs": []
    },
    {
      "cell_type": "code",
      "source": [
        "X = df.drop(['Churn'],axis=1).copy()\n",
        "y = df['Churn'].copy()"
      ],
      "metadata": {
        "id": "YzCax4a9B_RB"
      },
      "execution_count": 11,
      "outputs": []
    },
    {
      "cell_type": "code",
      "source": [
        "#Make a dummies columns for each categorical value, el ohe stands for one_hot_encoding\n",
        "columns = ['gender','Partner','PhoneService','MultipleLines','InternetService','OnlineSecurity','OnlineBackup','DeviceProtection','TechSupport',\n",
        "           'StreamingTV','StreamingMovies','Contract','PaperlessBilling','PaymentMethod','Dependents']\n",
        "X_ohe = pd.get_dummies(X,columns=columns)"
      ],
      "metadata": {
        "id": "3Pdh0JzQC8EK"
      },
      "execution_count": 12,
      "outputs": []
    },
    {
      "cell_type": "code",
      "source": [
        "X_ohe"
      ],
      "metadata": {
        "colab": {
          "base_uri": "https://localhost:8080/",
          "height": 505
        },
        "id": "1LybpxBWDSKK",
        "outputId": "4ae9869c-8154-484a-a5ec-4219507274c4"
      },
      "execution_count": 13,
      "outputs": [
        {
          "output_type": "execute_result",
          "data": {
            "text/html": [
              "\n",
              "  <div id=\"df-23d96df5-d201-430d-a20d-aa9f52939518\">\n",
              "    <div class=\"colab-df-container\">\n",
              "      <div>\n",
              "<style scoped>\n",
              "    .dataframe tbody tr th:only-of-type {\n",
              "        vertical-align: middle;\n",
              "    }\n",
              "\n",
              "    .dataframe tbody tr th {\n",
              "        vertical-align: top;\n",
              "    }\n",
              "\n",
              "    .dataframe thead th {\n",
              "        text-align: right;\n",
              "    }\n",
              "</style>\n",
              "<table border=\"1\" class=\"dataframe\">\n",
              "  <thead>\n",
              "    <tr style=\"text-align: right;\">\n",
              "      <th></th>\n",
              "      <th>SeniorCitizen</th>\n",
              "      <th>tenure</th>\n",
              "      <th>MonthlyCharges</th>\n",
              "      <th>TotalCharges</th>\n",
              "      <th>gender_Female</th>\n",
              "      <th>gender_Male</th>\n",
              "      <th>Partner_No</th>\n",
              "      <th>Partner_Yes</th>\n",
              "      <th>PhoneService_No</th>\n",
              "      <th>PhoneService_Yes</th>\n",
              "      <th>MultipleLines_No</th>\n",
              "      <th>MultipleLines_No_phone_service</th>\n",
              "      <th>MultipleLines_Yes</th>\n",
              "      <th>InternetService_DSL</th>\n",
              "      <th>InternetService_Fiber_optic</th>\n",
              "      <th>InternetService_No</th>\n",
              "      <th>OnlineSecurity_No</th>\n",
              "      <th>OnlineSecurity_No_internet_service</th>\n",
              "      <th>OnlineSecurity_Yes</th>\n",
              "      <th>OnlineBackup_No</th>\n",
              "      <th>OnlineBackup_No_internet_service</th>\n",
              "      <th>OnlineBackup_Yes</th>\n",
              "      <th>DeviceProtection_No</th>\n",
              "      <th>DeviceProtection_No_internet_service</th>\n",
              "      <th>DeviceProtection_Yes</th>\n",
              "      <th>TechSupport_No</th>\n",
              "      <th>TechSupport_No_internet_service</th>\n",
              "      <th>TechSupport_Yes</th>\n",
              "      <th>StreamingTV_No</th>\n",
              "      <th>StreamingTV_No_internet_service</th>\n",
              "      <th>StreamingTV_Yes</th>\n",
              "      <th>StreamingMovies_No</th>\n",
              "      <th>StreamingMovies_No_internet_service</th>\n",
              "      <th>StreamingMovies_Yes</th>\n",
              "      <th>Contract_Month-to-month</th>\n",
              "      <th>Contract_One_year</th>\n",
              "      <th>Contract_Two_year</th>\n",
              "      <th>PaperlessBilling_No</th>\n",
              "      <th>PaperlessBilling_Yes</th>\n",
              "      <th>PaymentMethod_Bank_transfer_(automatic)</th>\n",
              "      <th>PaymentMethod_Credit_card_(automatic)</th>\n",
              "      <th>PaymentMethod_Electronic_check</th>\n",
              "      <th>PaymentMethod_Mailed_check</th>\n",
              "      <th>Dependents_No</th>\n",
              "      <th>Dependents_Yes</th>\n",
              "    </tr>\n",
              "  </thead>\n",
              "  <tbody>\n",
              "    <tr>\n",
              "      <th>0</th>\n",
              "      <td>0</td>\n",
              "      <td>1</td>\n",
              "      <td>29.85</td>\n",
              "      <td>29.85</td>\n",
              "      <td>1</td>\n",
              "      <td>0</td>\n",
              "      <td>0</td>\n",
              "      <td>1</td>\n",
              "      <td>1</td>\n",
              "      <td>0</td>\n",
              "      <td>0</td>\n",
              "      <td>1</td>\n",
              "      <td>0</td>\n",
              "      <td>1</td>\n",
              "      <td>0</td>\n",
              "      <td>0</td>\n",
              "      <td>1</td>\n",
              "      <td>0</td>\n",
              "      <td>0</td>\n",
              "      <td>0</td>\n",
              "      <td>0</td>\n",
              "      <td>1</td>\n",
              "      <td>1</td>\n",
              "      <td>0</td>\n",
              "      <td>0</td>\n",
              "      <td>1</td>\n",
              "      <td>0</td>\n",
              "      <td>0</td>\n",
              "      <td>1</td>\n",
              "      <td>0</td>\n",
              "      <td>0</td>\n",
              "      <td>1</td>\n",
              "      <td>0</td>\n",
              "      <td>0</td>\n",
              "      <td>1</td>\n",
              "      <td>0</td>\n",
              "      <td>0</td>\n",
              "      <td>0</td>\n",
              "      <td>1</td>\n",
              "      <td>0</td>\n",
              "      <td>0</td>\n",
              "      <td>1</td>\n",
              "      <td>0</td>\n",
              "      <td>1</td>\n",
              "      <td>0</td>\n",
              "    </tr>\n",
              "    <tr>\n",
              "      <th>1</th>\n",
              "      <td>0</td>\n",
              "      <td>34</td>\n",
              "      <td>56.95</td>\n",
              "      <td>1889.50</td>\n",
              "      <td>0</td>\n",
              "      <td>1</td>\n",
              "      <td>1</td>\n",
              "      <td>0</td>\n",
              "      <td>0</td>\n",
              "      <td>1</td>\n",
              "      <td>1</td>\n",
              "      <td>0</td>\n",
              "      <td>0</td>\n",
              "      <td>1</td>\n",
              "      <td>0</td>\n",
              "      <td>0</td>\n",
              "      <td>0</td>\n",
              "      <td>0</td>\n",
              "      <td>1</td>\n",
              "      <td>1</td>\n",
              "      <td>0</td>\n",
              "      <td>0</td>\n",
              "      <td>0</td>\n",
              "      <td>0</td>\n",
              "      <td>1</td>\n",
              "      <td>1</td>\n",
              "      <td>0</td>\n",
              "      <td>0</td>\n",
              "      <td>1</td>\n",
              "      <td>0</td>\n",
              "      <td>0</td>\n",
              "      <td>1</td>\n",
              "      <td>0</td>\n",
              "      <td>0</td>\n",
              "      <td>0</td>\n",
              "      <td>1</td>\n",
              "      <td>0</td>\n",
              "      <td>1</td>\n",
              "      <td>0</td>\n",
              "      <td>0</td>\n",
              "      <td>0</td>\n",
              "      <td>0</td>\n",
              "      <td>1</td>\n",
              "      <td>1</td>\n",
              "      <td>0</td>\n",
              "    </tr>\n",
              "    <tr>\n",
              "      <th>2</th>\n",
              "      <td>0</td>\n",
              "      <td>2</td>\n",
              "      <td>53.85</td>\n",
              "      <td>108.15</td>\n",
              "      <td>0</td>\n",
              "      <td>1</td>\n",
              "      <td>1</td>\n",
              "      <td>0</td>\n",
              "      <td>0</td>\n",
              "      <td>1</td>\n",
              "      <td>1</td>\n",
              "      <td>0</td>\n",
              "      <td>0</td>\n",
              "      <td>1</td>\n",
              "      <td>0</td>\n",
              "      <td>0</td>\n",
              "      <td>0</td>\n",
              "      <td>0</td>\n",
              "      <td>1</td>\n",
              "      <td>0</td>\n",
              "      <td>0</td>\n",
              "      <td>1</td>\n",
              "      <td>1</td>\n",
              "      <td>0</td>\n",
              "      <td>0</td>\n",
              "      <td>1</td>\n",
              "      <td>0</td>\n",
              "      <td>0</td>\n",
              "      <td>1</td>\n",
              "      <td>0</td>\n",
              "      <td>0</td>\n",
              "      <td>1</td>\n",
              "      <td>0</td>\n",
              "      <td>0</td>\n",
              "      <td>1</td>\n",
              "      <td>0</td>\n",
              "      <td>0</td>\n",
              "      <td>0</td>\n",
              "      <td>1</td>\n",
              "      <td>0</td>\n",
              "      <td>0</td>\n",
              "      <td>0</td>\n",
              "      <td>1</td>\n",
              "      <td>1</td>\n",
              "      <td>0</td>\n",
              "    </tr>\n",
              "    <tr>\n",
              "      <th>3</th>\n",
              "      <td>0</td>\n",
              "      <td>45</td>\n",
              "      <td>42.30</td>\n",
              "      <td>1840.75</td>\n",
              "      <td>0</td>\n",
              "      <td>1</td>\n",
              "      <td>1</td>\n",
              "      <td>0</td>\n",
              "      <td>1</td>\n",
              "      <td>0</td>\n",
              "      <td>0</td>\n",
              "      <td>1</td>\n",
              "      <td>0</td>\n",
              "      <td>1</td>\n",
              "      <td>0</td>\n",
              "      <td>0</td>\n",
              "      <td>0</td>\n",
              "      <td>0</td>\n",
              "      <td>1</td>\n",
              "      <td>1</td>\n",
              "      <td>0</td>\n",
              "      <td>0</td>\n",
              "      <td>0</td>\n",
              "      <td>0</td>\n",
              "      <td>1</td>\n",
              "      <td>0</td>\n",
              "      <td>0</td>\n",
              "      <td>1</td>\n",
              "      <td>1</td>\n",
              "      <td>0</td>\n",
              "      <td>0</td>\n",
              "      <td>1</td>\n",
              "      <td>0</td>\n",
              "      <td>0</td>\n",
              "      <td>0</td>\n",
              "      <td>1</td>\n",
              "      <td>0</td>\n",
              "      <td>1</td>\n",
              "      <td>0</td>\n",
              "      <td>1</td>\n",
              "      <td>0</td>\n",
              "      <td>0</td>\n",
              "      <td>0</td>\n",
              "      <td>1</td>\n",
              "      <td>0</td>\n",
              "    </tr>\n",
              "    <tr>\n",
              "      <th>4</th>\n",
              "      <td>0</td>\n",
              "      <td>2</td>\n",
              "      <td>70.70</td>\n",
              "      <td>151.65</td>\n",
              "      <td>1</td>\n",
              "      <td>0</td>\n",
              "      <td>1</td>\n",
              "      <td>0</td>\n",
              "      <td>0</td>\n",
              "      <td>1</td>\n",
              "      <td>1</td>\n",
              "      <td>0</td>\n",
              "      <td>0</td>\n",
              "      <td>0</td>\n",
              "      <td>1</td>\n",
              "      <td>0</td>\n",
              "      <td>1</td>\n",
              "      <td>0</td>\n",
              "      <td>0</td>\n",
              "      <td>1</td>\n",
              "      <td>0</td>\n",
              "      <td>0</td>\n",
              "      <td>1</td>\n",
              "      <td>0</td>\n",
              "      <td>0</td>\n",
              "      <td>1</td>\n",
              "      <td>0</td>\n",
              "      <td>0</td>\n",
              "      <td>1</td>\n",
              "      <td>0</td>\n",
              "      <td>0</td>\n",
              "      <td>1</td>\n",
              "      <td>0</td>\n",
              "      <td>0</td>\n",
              "      <td>1</td>\n",
              "      <td>0</td>\n",
              "      <td>0</td>\n",
              "      <td>0</td>\n",
              "      <td>1</td>\n",
              "      <td>0</td>\n",
              "      <td>0</td>\n",
              "      <td>1</td>\n",
              "      <td>0</td>\n",
              "      <td>1</td>\n",
              "      <td>0</td>\n",
              "    </tr>\n",
              "    <tr>\n",
              "      <th>...</th>\n",
              "      <td>...</td>\n",
              "      <td>...</td>\n",
              "      <td>...</td>\n",
              "      <td>...</td>\n",
              "      <td>...</td>\n",
              "      <td>...</td>\n",
              "      <td>...</td>\n",
              "      <td>...</td>\n",
              "      <td>...</td>\n",
              "      <td>...</td>\n",
              "      <td>...</td>\n",
              "      <td>...</td>\n",
              "      <td>...</td>\n",
              "      <td>...</td>\n",
              "      <td>...</td>\n",
              "      <td>...</td>\n",
              "      <td>...</td>\n",
              "      <td>...</td>\n",
              "      <td>...</td>\n",
              "      <td>...</td>\n",
              "      <td>...</td>\n",
              "      <td>...</td>\n",
              "      <td>...</td>\n",
              "      <td>...</td>\n",
              "      <td>...</td>\n",
              "      <td>...</td>\n",
              "      <td>...</td>\n",
              "      <td>...</td>\n",
              "      <td>...</td>\n",
              "      <td>...</td>\n",
              "      <td>...</td>\n",
              "      <td>...</td>\n",
              "      <td>...</td>\n",
              "      <td>...</td>\n",
              "      <td>...</td>\n",
              "      <td>...</td>\n",
              "      <td>...</td>\n",
              "      <td>...</td>\n",
              "      <td>...</td>\n",
              "      <td>...</td>\n",
              "      <td>...</td>\n",
              "      <td>...</td>\n",
              "      <td>...</td>\n",
              "      <td>...</td>\n",
              "      <td>...</td>\n",
              "    </tr>\n",
              "    <tr>\n",
              "      <th>7038</th>\n",
              "      <td>0</td>\n",
              "      <td>24</td>\n",
              "      <td>84.80</td>\n",
              "      <td>1990.50</td>\n",
              "      <td>0</td>\n",
              "      <td>1</td>\n",
              "      <td>0</td>\n",
              "      <td>1</td>\n",
              "      <td>0</td>\n",
              "      <td>1</td>\n",
              "      <td>0</td>\n",
              "      <td>0</td>\n",
              "      <td>1</td>\n",
              "      <td>1</td>\n",
              "      <td>0</td>\n",
              "      <td>0</td>\n",
              "      <td>0</td>\n",
              "      <td>0</td>\n",
              "      <td>1</td>\n",
              "      <td>1</td>\n",
              "      <td>0</td>\n",
              "      <td>0</td>\n",
              "      <td>0</td>\n",
              "      <td>0</td>\n",
              "      <td>1</td>\n",
              "      <td>0</td>\n",
              "      <td>0</td>\n",
              "      <td>1</td>\n",
              "      <td>0</td>\n",
              "      <td>0</td>\n",
              "      <td>1</td>\n",
              "      <td>0</td>\n",
              "      <td>0</td>\n",
              "      <td>1</td>\n",
              "      <td>0</td>\n",
              "      <td>1</td>\n",
              "      <td>0</td>\n",
              "      <td>0</td>\n",
              "      <td>1</td>\n",
              "      <td>0</td>\n",
              "      <td>0</td>\n",
              "      <td>0</td>\n",
              "      <td>1</td>\n",
              "      <td>0</td>\n",
              "      <td>1</td>\n",
              "    </tr>\n",
              "    <tr>\n",
              "      <th>7039</th>\n",
              "      <td>0</td>\n",
              "      <td>72</td>\n",
              "      <td>103.20</td>\n",
              "      <td>7362.90</td>\n",
              "      <td>1</td>\n",
              "      <td>0</td>\n",
              "      <td>0</td>\n",
              "      <td>1</td>\n",
              "      <td>0</td>\n",
              "      <td>1</td>\n",
              "      <td>0</td>\n",
              "      <td>0</td>\n",
              "      <td>1</td>\n",
              "      <td>0</td>\n",
              "      <td>1</td>\n",
              "      <td>0</td>\n",
              "      <td>1</td>\n",
              "      <td>0</td>\n",
              "      <td>0</td>\n",
              "      <td>0</td>\n",
              "      <td>0</td>\n",
              "      <td>1</td>\n",
              "      <td>0</td>\n",
              "      <td>0</td>\n",
              "      <td>1</td>\n",
              "      <td>1</td>\n",
              "      <td>0</td>\n",
              "      <td>0</td>\n",
              "      <td>0</td>\n",
              "      <td>0</td>\n",
              "      <td>1</td>\n",
              "      <td>0</td>\n",
              "      <td>0</td>\n",
              "      <td>1</td>\n",
              "      <td>0</td>\n",
              "      <td>1</td>\n",
              "      <td>0</td>\n",
              "      <td>0</td>\n",
              "      <td>1</td>\n",
              "      <td>0</td>\n",
              "      <td>1</td>\n",
              "      <td>0</td>\n",
              "      <td>0</td>\n",
              "      <td>0</td>\n",
              "      <td>1</td>\n",
              "    </tr>\n",
              "    <tr>\n",
              "      <th>7040</th>\n",
              "      <td>0</td>\n",
              "      <td>11</td>\n",
              "      <td>29.60</td>\n",
              "      <td>346.45</td>\n",
              "      <td>1</td>\n",
              "      <td>0</td>\n",
              "      <td>0</td>\n",
              "      <td>1</td>\n",
              "      <td>1</td>\n",
              "      <td>0</td>\n",
              "      <td>0</td>\n",
              "      <td>1</td>\n",
              "      <td>0</td>\n",
              "      <td>1</td>\n",
              "      <td>0</td>\n",
              "      <td>0</td>\n",
              "      <td>0</td>\n",
              "      <td>0</td>\n",
              "      <td>1</td>\n",
              "      <td>1</td>\n",
              "      <td>0</td>\n",
              "      <td>0</td>\n",
              "      <td>1</td>\n",
              "      <td>0</td>\n",
              "      <td>0</td>\n",
              "      <td>1</td>\n",
              "      <td>0</td>\n",
              "      <td>0</td>\n",
              "      <td>1</td>\n",
              "      <td>0</td>\n",
              "      <td>0</td>\n",
              "      <td>1</td>\n",
              "      <td>0</td>\n",
              "      <td>0</td>\n",
              "      <td>1</td>\n",
              "      <td>0</td>\n",
              "      <td>0</td>\n",
              "      <td>0</td>\n",
              "      <td>1</td>\n",
              "      <td>0</td>\n",
              "      <td>0</td>\n",
              "      <td>1</td>\n",
              "      <td>0</td>\n",
              "      <td>0</td>\n",
              "      <td>1</td>\n",
              "    </tr>\n",
              "    <tr>\n",
              "      <th>7041</th>\n",
              "      <td>1</td>\n",
              "      <td>4</td>\n",
              "      <td>74.40</td>\n",
              "      <td>306.60</td>\n",
              "      <td>0</td>\n",
              "      <td>1</td>\n",
              "      <td>0</td>\n",
              "      <td>1</td>\n",
              "      <td>0</td>\n",
              "      <td>1</td>\n",
              "      <td>0</td>\n",
              "      <td>0</td>\n",
              "      <td>1</td>\n",
              "      <td>0</td>\n",
              "      <td>1</td>\n",
              "      <td>0</td>\n",
              "      <td>1</td>\n",
              "      <td>0</td>\n",
              "      <td>0</td>\n",
              "      <td>1</td>\n",
              "      <td>0</td>\n",
              "      <td>0</td>\n",
              "      <td>1</td>\n",
              "      <td>0</td>\n",
              "      <td>0</td>\n",
              "      <td>1</td>\n",
              "      <td>0</td>\n",
              "      <td>0</td>\n",
              "      <td>1</td>\n",
              "      <td>0</td>\n",
              "      <td>0</td>\n",
              "      <td>1</td>\n",
              "      <td>0</td>\n",
              "      <td>0</td>\n",
              "      <td>1</td>\n",
              "      <td>0</td>\n",
              "      <td>0</td>\n",
              "      <td>0</td>\n",
              "      <td>1</td>\n",
              "      <td>0</td>\n",
              "      <td>0</td>\n",
              "      <td>0</td>\n",
              "      <td>1</td>\n",
              "      <td>1</td>\n",
              "      <td>0</td>\n",
              "    </tr>\n",
              "    <tr>\n",
              "      <th>7042</th>\n",
              "      <td>0</td>\n",
              "      <td>66</td>\n",
              "      <td>105.65</td>\n",
              "      <td>6844.50</td>\n",
              "      <td>0</td>\n",
              "      <td>1</td>\n",
              "      <td>1</td>\n",
              "      <td>0</td>\n",
              "      <td>0</td>\n",
              "      <td>1</td>\n",
              "      <td>1</td>\n",
              "      <td>0</td>\n",
              "      <td>0</td>\n",
              "      <td>0</td>\n",
              "      <td>1</td>\n",
              "      <td>0</td>\n",
              "      <td>0</td>\n",
              "      <td>0</td>\n",
              "      <td>1</td>\n",
              "      <td>1</td>\n",
              "      <td>0</td>\n",
              "      <td>0</td>\n",
              "      <td>0</td>\n",
              "      <td>0</td>\n",
              "      <td>1</td>\n",
              "      <td>0</td>\n",
              "      <td>0</td>\n",
              "      <td>1</td>\n",
              "      <td>0</td>\n",
              "      <td>0</td>\n",
              "      <td>1</td>\n",
              "      <td>0</td>\n",
              "      <td>0</td>\n",
              "      <td>1</td>\n",
              "      <td>0</td>\n",
              "      <td>0</td>\n",
              "      <td>1</td>\n",
              "      <td>0</td>\n",
              "      <td>1</td>\n",
              "      <td>1</td>\n",
              "      <td>0</td>\n",
              "      <td>0</td>\n",
              "      <td>0</td>\n",
              "      <td>1</td>\n",
              "      <td>0</td>\n",
              "    </tr>\n",
              "  </tbody>\n",
              "</table>\n",
              "<p>7043 rows × 45 columns</p>\n",
              "</div>\n",
              "      <button class=\"colab-df-convert\" onclick=\"convertToInteractive('df-23d96df5-d201-430d-a20d-aa9f52939518')\"\n",
              "              title=\"Convert this dataframe to an interactive table.\"\n",
              "              style=\"display:none;\">\n",
              "        \n",
              "  <svg xmlns=\"http://www.w3.org/2000/svg\" height=\"24px\"viewBox=\"0 0 24 24\"\n",
              "       width=\"24px\">\n",
              "    <path d=\"M0 0h24v24H0V0z\" fill=\"none\"/>\n",
              "    <path d=\"M18.56 5.44l.94 2.06.94-2.06 2.06-.94-2.06-.94-.94-2.06-.94 2.06-2.06.94zm-11 1L8.5 8.5l.94-2.06 2.06-.94-2.06-.94L8.5 2.5l-.94 2.06-2.06.94zm10 10l.94 2.06.94-2.06 2.06-.94-2.06-.94-.94-2.06-.94 2.06-2.06.94z\"/><path d=\"M17.41 7.96l-1.37-1.37c-.4-.4-.92-.59-1.43-.59-.52 0-1.04.2-1.43.59L10.3 9.45l-7.72 7.72c-.78.78-.78 2.05 0 2.83L4 21.41c.39.39.9.59 1.41.59.51 0 1.02-.2 1.41-.59l7.78-7.78 2.81-2.81c.8-.78.8-2.07 0-2.86zM5.41 20L4 18.59l7.72-7.72 1.47 1.35L5.41 20z\"/>\n",
              "  </svg>\n",
              "      </button>\n",
              "      \n",
              "  <style>\n",
              "    .colab-df-container {\n",
              "      display:flex;\n",
              "      flex-wrap:wrap;\n",
              "      gap: 12px;\n",
              "    }\n",
              "\n",
              "    .colab-df-convert {\n",
              "      background-color: #E8F0FE;\n",
              "      border: none;\n",
              "      border-radius: 50%;\n",
              "      cursor: pointer;\n",
              "      display: none;\n",
              "      fill: #1967D2;\n",
              "      height: 32px;\n",
              "      padding: 0 0 0 0;\n",
              "      width: 32px;\n",
              "    }\n",
              "\n",
              "    .colab-df-convert:hover {\n",
              "      background-color: #E2EBFA;\n",
              "      box-shadow: 0px 1px 2px rgba(60, 64, 67, 0.3), 0px 1px 3px 1px rgba(60, 64, 67, 0.15);\n",
              "      fill: #174EA6;\n",
              "    }\n",
              "\n",
              "    [theme=dark] .colab-df-convert {\n",
              "      background-color: #3B4455;\n",
              "      fill: #D2E3FC;\n",
              "    }\n",
              "\n",
              "    [theme=dark] .colab-df-convert:hover {\n",
              "      background-color: #434B5C;\n",
              "      box-shadow: 0px 1px 3px 1px rgba(0, 0, 0, 0.15);\n",
              "      filter: drop-shadow(0px 1px 2px rgba(0, 0, 0, 0.3));\n",
              "      fill: #FFFFFF;\n",
              "    }\n",
              "  </style>\n",
              "\n",
              "      <script>\n",
              "        const buttonEl =\n",
              "          document.querySelector('#df-23d96df5-d201-430d-a20d-aa9f52939518 button.colab-df-convert');\n",
              "        buttonEl.style.display =\n",
              "          google.colab.kernel.accessAllowed ? 'block' : 'none';\n",
              "\n",
              "        async function convertToInteractive(key) {\n",
              "          const element = document.querySelector('#df-23d96df5-d201-430d-a20d-aa9f52939518');\n",
              "          const dataTable =\n",
              "            await google.colab.kernel.invokeFunction('convertToInteractive',\n",
              "                                                     [key], {});\n",
              "          if (!dataTable) return;\n",
              "\n",
              "          const docLinkHtml = 'Like what you see? Visit the ' +\n",
              "            '<a target=\"_blank\" href=https://colab.research.google.com/notebooks/data_table.ipynb>data table notebook</a>'\n",
              "            + ' to learn more about interactive tables.';\n",
              "          element.innerHTML = '';\n",
              "          dataTable['output_type'] = 'display_data';\n",
              "          await google.colab.output.renderOutput(dataTable, element);\n",
              "          const docLink = document.createElement('div');\n",
              "          docLink.innerHTML = docLinkHtml;\n",
              "          element.appendChild(docLink);\n",
              "        }\n",
              "      </script>\n",
              "    </div>\n",
              "  </div>\n",
              "  "
            ],
            "text/plain": [
              "      SeniorCitizen  tenure  ...  Dependents_No  Dependents_Yes\n",
              "0                 0       1  ...              1               0\n",
              "1                 0      34  ...              1               0\n",
              "2                 0       2  ...              1               0\n",
              "3                 0      45  ...              1               0\n",
              "4                 0       2  ...              1               0\n",
              "...             ...     ...  ...            ...             ...\n",
              "7038              0      24  ...              0               1\n",
              "7039              0      72  ...              0               1\n",
              "7040              0      11  ...              0               1\n",
              "7041              1       4  ...              1               0\n",
              "7042              0      66  ...              1               0\n",
              "\n",
              "[7043 rows x 45 columns]"
            ]
          },
          "metadata": {},
          "execution_count": 13
        }
      ]
    },
    {
      "cell_type": "code",
      "source": [
        "y.replace(['No', 'Yes'],[0,1],inplace=True)"
      ],
      "metadata": {
        "id": "zWHRy3RmGk58"
      },
      "execution_count": 14,
      "outputs": []
    },
    {
      "cell_type": "code",
      "source": [
        "y.unique()"
      ],
      "metadata": {
        "id": "Cj5AVt7MG00U",
        "colab": {
          "base_uri": "https://localhost:8080/"
        },
        "outputId": "4f3fa1fb-fc21-40cf-9a2d-c26ceb74b41e"
      },
      "execution_count": 15,
      "outputs": [
        {
          "output_type": "execute_result",
          "data": {
            "text/plain": [
              "array([0, 1])"
            ]
          },
          "metadata": {},
          "execution_count": 15
        }
      ]
    },
    {
      "cell_type": "code",
      "source": [
        "#Now the data must be splited, but once the number of people that leave are less than the ones that don't,  \n",
        "#stratify must be used. \n",
        "X_train, X_test, y_train, y_test = train_test_split(X_ohe,y,random_state=0,stratify=y)"
      ],
      "metadata": {
        "id": "DpZUS3bRHxrj"
      },
      "execution_count": 17,
      "outputs": []
    },
    {
      "cell_type": "markdown",
      "source": [
        "# Line Base Model - Now the Xgboost model"
      ],
      "metadata": {
        "id": "6ZfuZOJPJ-OQ"
      }
    },
    {
      "cell_type": "code",
      "source": [
        "param_dist = {\n",
        "    'objective':'binary:logistic',\n",
        "    'n_estimators':100,\n",
        "    'missing': None,\n",
        "    'learning_rate': 0.5,\n",
        "    'max_depth': 8,\n",
        "\n",
        "}\n",
        "xgb_classifier = xgb.XGBClassifier(**param_dist)\n",
        "xgb_classifier.fit(X_train,\n",
        "                  y_train,\n",
        "                  eval_set=[(X_train, y_train), (X_test, y_test)],\n",
        "                  eval_metric='aucpr',\n",
        "                  verbose=True\n",
        "                  )"
      ],
      "metadata": {
        "colab": {
          "base_uri": "https://localhost:8080/"
        },
        "id": "zm7Bi1deJ7Md",
        "outputId": "f3b5f501-1d4f-4c53-ed8a-8b078727f0f1"
      },
      "execution_count": 27,
      "outputs": [
        {
          "output_type": "stream",
          "name": "stdout",
          "text": [
            "[0]\tvalidation_0-aucpr:0.736774\tvalidation_1-aucpr:0.615457\n",
            "[1]\tvalidation_0-aucpr:0.772709\tvalidation_1-aucpr:0.619989\n",
            "[2]\tvalidation_0-aucpr:0.806891\tvalidation_1-aucpr:0.61743\n",
            "[3]\tvalidation_0-aucpr:0.833987\tvalidation_1-aucpr:0.623258\n",
            "[4]\tvalidation_0-aucpr:0.853877\tvalidation_1-aucpr:0.624375\n",
            "[5]\tvalidation_0-aucpr:0.870745\tvalidation_1-aucpr:0.626985\n",
            "[6]\tvalidation_0-aucpr:0.879792\tvalidation_1-aucpr:0.627391\n",
            "[7]\tvalidation_0-aucpr:0.887704\tvalidation_1-aucpr:0.634478\n",
            "[8]\tvalidation_0-aucpr:0.896915\tvalidation_1-aucpr:0.634667\n",
            "[9]\tvalidation_0-aucpr:0.90278\tvalidation_1-aucpr:0.636064\n",
            "[10]\tvalidation_0-aucpr:0.90478\tvalidation_1-aucpr:0.636567\n",
            "[11]\tvalidation_0-aucpr:0.913293\tvalidation_1-aucpr:0.641074\n",
            "[12]\tvalidation_0-aucpr:0.922292\tvalidation_1-aucpr:0.63637\n",
            "[13]\tvalidation_0-aucpr:0.924897\tvalidation_1-aucpr:0.63616\n",
            "[14]\tvalidation_0-aucpr:0.925651\tvalidation_1-aucpr:0.636265\n",
            "[15]\tvalidation_0-aucpr:0.926918\tvalidation_1-aucpr:0.635607\n",
            "[16]\tvalidation_0-aucpr:0.929237\tvalidation_1-aucpr:0.635528\n",
            "[17]\tvalidation_0-aucpr:0.937815\tvalidation_1-aucpr:0.630471\n",
            "[18]\tvalidation_0-aucpr:0.943015\tvalidation_1-aucpr:0.628512\n",
            "[19]\tvalidation_0-aucpr:0.944396\tvalidation_1-aucpr:0.627642\n",
            "[20]\tvalidation_0-aucpr:0.94879\tvalidation_1-aucpr:0.623541\n",
            "[21]\tvalidation_0-aucpr:0.950552\tvalidation_1-aucpr:0.62324\n",
            "[22]\tvalidation_0-aucpr:0.952538\tvalidation_1-aucpr:0.62147\n",
            "[23]\tvalidation_0-aucpr:0.954595\tvalidation_1-aucpr:0.621375\n",
            "[24]\tvalidation_0-aucpr:0.956886\tvalidation_1-aucpr:0.617715\n",
            "[25]\tvalidation_0-aucpr:0.961142\tvalidation_1-aucpr:0.620717\n",
            "[26]\tvalidation_0-aucpr:0.965894\tvalidation_1-aucpr:0.614976\n",
            "[27]\tvalidation_0-aucpr:0.971051\tvalidation_1-aucpr:0.620927\n",
            "[28]\tvalidation_0-aucpr:0.973293\tvalidation_1-aucpr:0.619809\n",
            "[29]\tvalidation_0-aucpr:0.976247\tvalidation_1-aucpr:0.619572\n",
            "[30]\tvalidation_0-aucpr:0.97837\tvalidation_1-aucpr:0.620504\n",
            "[31]\tvalidation_0-aucpr:0.980222\tvalidation_1-aucpr:0.619713\n",
            "[32]\tvalidation_0-aucpr:0.980769\tvalidation_1-aucpr:0.618978\n",
            "[33]\tvalidation_0-aucpr:0.981217\tvalidation_1-aucpr:0.618016\n",
            "[34]\tvalidation_0-aucpr:0.981414\tvalidation_1-aucpr:0.616446\n",
            "[35]\tvalidation_0-aucpr:0.9815\tvalidation_1-aucpr:0.616236\n",
            "[36]\tvalidation_0-aucpr:0.982293\tvalidation_1-aucpr:0.615344\n",
            "[37]\tvalidation_0-aucpr:0.982504\tvalidation_1-aucpr:0.615527\n",
            "[38]\tvalidation_0-aucpr:0.983505\tvalidation_1-aucpr:0.618151\n",
            "[39]\tvalidation_0-aucpr:0.984314\tvalidation_1-aucpr:0.616082\n",
            "[40]\tvalidation_0-aucpr:0.984538\tvalidation_1-aucpr:0.615877\n",
            "[41]\tvalidation_0-aucpr:0.986454\tvalidation_1-aucpr:0.615054\n",
            "[42]\tvalidation_0-aucpr:0.987812\tvalidation_1-aucpr:0.613084\n",
            "[43]\tvalidation_0-aucpr:0.988799\tvalidation_1-aucpr:0.616209\n",
            "[44]\tvalidation_0-aucpr:0.989439\tvalidation_1-aucpr:0.614805\n",
            "[45]\tvalidation_0-aucpr:0.990011\tvalidation_1-aucpr:0.613867\n",
            "[46]\tvalidation_0-aucpr:0.990451\tvalidation_1-aucpr:0.613322\n",
            "[47]\tvalidation_0-aucpr:0.990504\tvalidation_1-aucpr:0.613397\n",
            "[48]\tvalidation_0-aucpr:0.990709\tvalidation_1-aucpr:0.612274\n",
            "[49]\tvalidation_0-aucpr:0.991087\tvalidation_1-aucpr:0.612779\n",
            "[50]\tvalidation_0-aucpr:0.99134\tvalidation_1-aucpr:0.611031\n",
            "[51]\tvalidation_0-aucpr:0.991426\tvalidation_1-aucpr:0.610678\n",
            "[52]\tvalidation_0-aucpr:0.991478\tvalidation_1-aucpr:0.61007\n",
            "[53]\tvalidation_0-aucpr:0.991705\tvalidation_1-aucpr:0.610355\n",
            "[54]\tvalidation_0-aucpr:0.991833\tvalidation_1-aucpr:0.609211\n",
            "[55]\tvalidation_0-aucpr:0.992837\tvalidation_1-aucpr:0.611287\n",
            "[56]\tvalidation_0-aucpr:0.993176\tvalidation_1-aucpr:0.611643\n",
            "[57]\tvalidation_0-aucpr:0.993866\tvalidation_1-aucpr:0.610467\n",
            "[58]\tvalidation_0-aucpr:0.995129\tvalidation_1-aucpr:0.609232\n",
            "[59]\tvalidation_0-aucpr:0.995338\tvalidation_1-aucpr:0.608988\n",
            "[60]\tvalidation_0-aucpr:0.995967\tvalidation_1-aucpr:0.608055\n",
            "[61]\tvalidation_0-aucpr:0.996275\tvalidation_1-aucpr:0.604977\n",
            "[62]\tvalidation_0-aucpr:0.996453\tvalidation_1-aucpr:0.604565\n",
            "[63]\tvalidation_0-aucpr:0.996502\tvalidation_1-aucpr:0.604594\n",
            "[64]\tvalidation_0-aucpr:0.99687\tvalidation_1-aucpr:0.600413\n",
            "[65]\tvalidation_0-aucpr:0.997097\tvalidation_1-aucpr:0.600453\n",
            "[66]\tvalidation_0-aucpr:0.997307\tvalidation_1-aucpr:0.602104\n",
            "[67]\tvalidation_0-aucpr:0.997744\tvalidation_1-aucpr:0.600305\n",
            "[68]\tvalidation_0-aucpr:0.99792\tvalidation_1-aucpr:0.600703\n",
            "[69]\tvalidation_0-aucpr:0.998088\tvalidation_1-aucpr:0.602353\n",
            "[70]\tvalidation_0-aucpr:0.998277\tvalidation_1-aucpr:0.601651\n",
            "[71]\tvalidation_0-aucpr:0.998263\tvalidation_1-aucpr:0.602096\n",
            "[72]\tvalidation_0-aucpr:0.998461\tvalidation_1-aucpr:0.603241\n",
            "[73]\tvalidation_0-aucpr:0.99865\tvalidation_1-aucpr:0.604298\n",
            "[74]\tvalidation_0-aucpr:0.99884\tvalidation_1-aucpr:0.605297\n",
            "[75]\tvalidation_0-aucpr:0.99884\tvalidation_1-aucpr:0.606392\n",
            "[76]\tvalidation_0-aucpr:0.998909\tvalidation_1-aucpr:0.607188\n",
            "[77]\tvalidation_0-aucpr:0.998949\tvalidation_1-aucpr:0.606885\n",
            "[78]\tvalidation_0-aucpr:0.999001\tvalidation_1-aucpr:0.608372\n",
            "[79]\tvalidation_0-aucpr:0.999008\tvalidation_1-aucpr:0.608076\n",
            "[80]\tvalidation_0-aucpr:0.999011\tvalidation_1-aucpr:0.608195\n",
            "[81]\tvalidation_0-aucpr:0.999076\tvalidation_1-aucpr:0.609523\n",
            "[82]\tvalidation_0-aucpr:0.999145\tvalidation_1-aucpr:0.608752\n",
            "[83]\tvalidation_0-aucpr:0.999144\tvalidation_1-aucpr:0.6089\n",
            "[84]\tvalidation_0-aucpr:0.999154\tvalidation_1-aucpr:0.607948\n",
            "[85]\tvalidation_0-aucpr:0.999153\tvalidation_1-aucpr:0.607748\n",
            "[86]\tvalidation_0-aucpr:0.999209\tvalidation_1-aucpr:0.607571\n",
            "[87]\tvalidation_0-aucpr:0.999209\tvalidation_1-aucpr:0.606737\n",
            "[88]\tvalidation_0-aucpr:0.99924\tvalidation_1-aucpr:0.605909\n",
            "[89]\tvalidation_0-aucpr:0.999268\tvalidation_1-aucpr:0.606161\n",
            "[90]\tvalidation_0-aucpr:0.999326\tvalidation_1-aucpr:0.604848\n",
            "[91]\tvalidation_0-aucpr:0.999334\tvalidation_1-aucpr:0.60499\n",
            "[92]\tvalidation_0-aucpr:0.999395\tvalidation_1-aucpr:0.603784\n",
            "[93]\tvalidation_0-aucpr:0.999453\tvalidation_1-aucpr:0.604177\n",
            "[94]\tvalidation_0-aucpr:0.999458\tvalidation_1-aucpr:0.603543\n",
            "[95]\tvalidation_0-aucpr:0.999485\tvalidation_1-aucpr:0.60314\n",
            "[96]\tvalidation_0-aucpr:0.999485\tvalidation_1-aucpr:0.60223\n",
            "[97]\tvalidation_0-aucpr:0.999539\tvalidation_1-aucpr:0.602652\n",
            "[98]\tvalidation_0-aucpr:0.999551\tvalidation_1-aucpr:0.602977\n",
            "[99]\tvalidation_0-aucpr:0.999528\tvalidation_1-aucpr:0.602848\n"
          ]
        },
        {
          "output_type": "execute_result",
          "data": {
            "text/plain": [
              "XGBClassifier(learning_rate=0.5, max_depth=8)"
            ]
          },
          "metadata": {},
          "execution_count": 27
        }
      ]
    },
    {
      "cell_type": "code",
      "source": [
        "plot_confusion_matrix(xgb_classifier,\n",
        "                      X_test,\n",
        "                      y_test,\n",
        "                      display_labels=['Did_not_leave','Left']\n",
        "                      )"
      ],
      "metadata": {
        "colab": {
          "base_uri": "https://localhost:8080/",
          "height": 352
        },
        "id": "xFqWggkGMVhs",
        "outputId": "7873b29a-d4fc-494f-dcb7-82bcd39d6949"
      },
      "execution_count": 28,
      "outputs": [
        {
          "output_type": "stream",
          "name": "stderr",
          "text": [
            "/usr/local/lib/python3.7/dist-packages/sklearn/utils/deprecation.py:87: FutureWarning: Function plot_confusion_matrix is deprecated; Function `plot_confusion_matrix` is deprecated in 1.0 and will be removed in 1.2. Use one of the class methods: ConfusionMatrixDisplay.from_predictions or ConfusionMatrixDisplay.from_estimator.\n",
            "  warnings.warn(msg, category=FutureWarning)\n"
          ]
        },
        {
          "output_type": "execute_result",
          "data": {
            "text/plain": [
              "<sklearn.metrics._plot.confusion_matrix.ConfusionMatrixDisplay at 0x7f22ea159590>"
            ]
          },
          "metadata": {},
          "execution_count": 28
        },
        {
          "output_type": "display_data",
          "data": {
            "image/png": "[encoded data removed]",
            "text/plain": [
              "<Figure size 432x288 with 2 Axes>"
            ]
          },
          "metadata": {
            "needs_background": "light"
          }
        }
      ]
    },
    {
      "cell_type": "markdown",
      "source": [
        "## Now i used GridSearchCV for tunning all the parameters"
      ],
      "metadata": {
        "id": "nrqBE2ziO3Jp"
      }
    },
    {
      "cell_type": "code",
      "source": [
        "param_grid = {\n",
        "    'max_depth': [3,5],\n",
        "    'learning_rate': [0.1,0.3,0.5],\n",
        "    'scale_post_weight': [1,3,5],\n",
        "    'n_estimators': [100],\n",
        "    'gamma': [0,0.1,0.25],\n",
        "    'reg_lambda': [0,1.0]\n",
        "}\n",
        "\n",
        "params = GridSearchCV(\n",
        "    xgb_classifier,\n",
        "    param_grid=param_grid,\n",
        "    scoring='roc_auc',\n",
        "    verbose=1\n",
        ")\n",
        "params.fit(X_train,y_train)"
      ],
      "metadata": {
        "colab": {
          "base_uri": "https://localhost:8080/"
        },
        "id": "TTMwLAjXNwYt",
        "outputId": "d0a3c212-d9cd-45f1-910e-ee95c95303aa"
      },
      "execution_count": 23,
      "outputs": [
        {
          "output_type": "stream",
          "name": "stdout",
          "text": [
            "Fitting 5 folds for each of 108 candidates, totalling 540 fits\n"
          ]
        },
        {
          "output_type": "execute_result",
          "data": {
            "text/plain": [
              "GridSearchCV(estimator=XGBClassifier(learning_rate=0.3),\n",
              "             param_grid={'gamma': [0, 0.1, 0.25],\n",
              "                         'learning_rate': [0.1, 0.3, 0.5], 'max_depth': [3, 5],\n",
              "                         'n_estimators': [100], 'reg_lambda': [0, 1.0],\n",
              "                         'scale_post_weight': [1, 3, 5]},\n",
              "             scoring='roc_auc', verbose=1)"
            ]
          },
          "metadata": {},
          "execution_count": 23
        }
      ]
    },
    {
      "cell_type": "code",
      "source": [
        "params.best_params_"
      ],
      "metadata": {
        "colab": {
          "base_uri": "https://localhost:8080/"
        },
        "id": "Y1GVDChlRC2W",
        "outputId": "d2f37e1e-3b96-49a5-a94c-48ec33033e33"
      },
      "execution_count": 24,
      "outputs": [
        {
          "output_type": "execute_result",
          "data": {
            "text/plain": [
              "{'gamma': 0.25,\n",
              " 'learning_rate': 0.1,\n",
              " 'max_depth': 3,\n",
              " 'n_estimators': 100,\n",
              " 'reg_lambda': 0,\n",
              " 'scale_post_weight': 1}"
            ]
          },
          "metadata": {},
          "execution_count": 24
        }
      ]
    },
    {
      "cell_type": "code",
      "source": [
        "param_dist_opt = {\n",
        "    'objective':'binary:logistic',\n",
        "    'gamma': 0.25,\n",
        "    'learning_rate': 0.1,\n",
        "    'max_depth': 3,\n",
        "    'n_estimators': 100,\n",
        "    'reg_lambda': 0,\n",
        "    'scale_post_weight': 1\n",
        "}\n",
        "opt_xgb_classifier = xgb.XGBClassifier(**param_dist)\n",
        "opt_xgb_classifier.fit(X_train,\n",
        "                  y_train,\n",
        "                  eval_set=[(X_train, y_train), (X_test, y_test)],\n",
        "                  eval_metric='aucpr',\n",
        "                  verbose=True\n",
        "                  )"
      ],
      "metadata": {
        "colab": {
          "base_uri": "https://localhost:8080/"
        },
        "id": "xQU1kwOJamwo",
        "outputId": "4de75db4-11af-4085-b899-c6d48c51182c"
      },
      "execution_count": 25,
      "outputs": [
        {
          "output_type": "stream",
          "name": "stdout",
          "text": [
            "[0]\tvalidation_0-aucpr:0.591141\tvalidation_1-aucpr:0.586069\n",
            "[1]\tvalidation_0-aucpr:0.62944\tvalidation_1-aucpr:0.621575\n",
            "[2]\tvalidation_0-aucpr:0.644129\tvalidation_1-aucpr:0.62431\n",
            "[3]\tvalidation_0-aucpr:0.646403\tvalidation_1-aucpr:0.626112\n",
            "[4]\tvalidation_0-aucpr:0.657982\tvalidation_1-aucpr:0.629227\n",
            "[5]\tvalidation_0-aucpr:0.674482\tvalidation_1-aucpr:0.638981\n",
            "[6]\tvalidation_0-aucpr:0.675982\tvalidation_1-aucpr:0.638402\n",
            "[7]\tvalidation_0-aucpr:0.683723\tvalidation_1-aucpr:0.64173\n",
            "[8]\tvalidation_0-aucpr:0.684965\tvalidation_1-aucpr:0.639495\n",
            "[9]\tvalidation_0-aucpr:0.689586\tvalidation_1-aucpr:0.640083\n",
            "[10]\tvalidation_0-aucpr:0.69197\tvalidation_1-aucpr:0.645474\n",
            "[11]\tvalidation_0-aucpr:0.696157\tvalidation_1-aucpr:0.650147\n",
            "[12]\tvalidation_0-aucpr:0.698646\tvalidation_1-aucpr:0.649555\n",
            "[13]\tvalidation_0-aucpr:0.701363\tvalidation_1-aucpr:0.648352\n",
            "[14]\tvalidation_0-aucpr:0.704071\tvalidation_1-aucpr:0.649964\n",
            "[15]\tvalidation_0-aucpr:0.705835\tvalidation_1-aucpr:0.649497\n",
            "[16]\tvalidation_0-aucpr:0.707099\tvalidation_1-aucpr:0.649419\n",
            "[17]\tvalidation_0-aucpr:0.709116\tvalidation_1-aucpr:0.652329\n",
            "[18]\tvalidation_0-aucpr:0.710686\tvalidation_1-aucpr:0.652745\n",
            "[19]\tvalidation_0-aucpr:0.711437\tvalidation_1-aucpr:0.65243\n",
            "[20]\tvalidation_0-aucpr:0.713253\tvalidation_1-aucpr:0.651016\n",
            "[21]\tvalidation_0-aucpr:0.714663\tvalidation_1-aucpr:0.65043\n",
            "[22]\tvalidation_0-aucpr:0.716175\tvalidation_1-aucpr:0.649447\n",
            "[23]\tvalidation_0-aucpr:0.716624\tvalidation_1-aucpr:0.649123\n",
            "[24]\tvalidation_0-aucpr:0.718446\tvalidation_1-aucpr:0.648682\n",
            "[25]\tvalidation_0-aucpr:0.718934\tvalidation_1-aucpr:0.648911\n",
            "[26]\tvalidation_0-aucpr:0.720557\tvalidation_1-aucpr:0.648108\n",
            "[27]\tvalidation_0-aucpr:0.72086\tvalidation_1-aucpr:0.647497\n",
            "[28]\tvalidation_0-aucpr:0.722876\tvalidation_1-aucpr:0.647542\n",
            "[29]\tvalidation_0-aucpr:0.723461\tvalidation_1-aucpr:0.647985\n",
            "[30]\tvalidation_0-aucpr:0.726311\tvalidation_1-aucpr:0.647854\n",
            "[31]\tvalidation_0-aucpr:0.726779\tvalidation_1-aucpr:0.648766\n",
            "[32]\tvalidation_0-aucpr:0.729278\tvalidation_1-aucpr:0.649568\n",
            "[33]\tvalidation_0-aucpr:0.731014\tvalidation_1-aucpr:0.647773\n",
            "[34]\tvalidation_0-aucpr:0.732427\tvalidation_1-aucpr:0.647747\n",
            "[35]\tvalidation_0-aucpr:0.734504\tvalidation_1-aucpr:0.646359\n",
            "[36]\tvalidation_0-aucpr:0.736466\tvalidation_1-aucpr:0.645143\n",
            "[37]\tvalidation_0-aucpr:0.736985\tvalidation_1-aucpr:0.645523\n",
            "[38]\tvalidation_0-aucpr:0.738282\tvalidation_1-aucpr:0.647083\n",
            "[39]\tvalidation_0-aucpr:0.738496\tvalidation_1-aucpr:0.646881\n",
            "[40]\tvalidation_0-aucpr:0.740295\tvalidation_1-aucpr:0.646626\n",
            "[41]\tvalidation_0-aucpr:0.741377\tvalidation_1-aucpr:0.646497\n",
            "[42]\tvalidation_0-aucpr:0.742042\tvalidation_1-aucpr:0.646514\n",
            "[43]\tvalidation_0-aucpr:0.743122\tvalidation_1-aucpr:0.646214\n",
            "[44]\tvalidation_0-aucpr:0.743377\tvalidation_1-aucpr:0.646074\n",
            "[45]\tvalidation_0-aucpr:0.745027\tvalidation_1-aucpr:0.645983\n",
            "[46]\tvalidation_0-aucpr:0.745233\tvalidation_1-aucpr:0.645935\n",
            "[47]\tvalidation_0-aucpr:0.746291\tvalidation_1-aucpr:0.645169\n",
            "[48]\tvalidation_0-aucpr:0.746528\tvalidation_1-aucpr:0.64496\n",
            "[49]\tvalidation_0-aucpr:0.747649\tvalidation_1-aucpr:0.645285\n",
            "[50]\tvalidation_0-aucpr:0.747698\tvalidation_1-aucpr:0.645258\n",
            "[51]\tvalidation_0-aucpr:0.747894\tvalidation_1-aucpr:0.645093\n",
            "[52]\tvalidation_0-aucpr:0.749047\tvalidation_1-aucpr:0.644858\n",
            "[53]\tvalidation_0-aucpr:0.749968\tvalidation_1-aucpr:0.644631\n",
            "[54]\tvalidation_0-aucpr:0.751511\tvalidation_1-aucpr:0.645602\n",
            "[55]\tvalidation_0-aucpr:0.753358\tvalidation_1-aucpr:0.646319\n",
            "[56]\tvalidation_0-aucpr:0.753873\tvalidation_1-aucpr:0.646448\n",
            "[57]\tvalidation_0-aucpr:0.754344\tvalidation_1-aucpr:0.646749\n",
            "[58]\tvalidation_0-aucpr:0.755188\tvalidation_1-aucpr:0.647004\n",
            "[59]\tvalidation_0-aucpr:0.757556\tvalidation_1-aucpr:0.646124\n",
            "[60]\tvalidation_0-aucpr:0.758732\tvalidation_1-aucpr:0.647326\n",
            "[61]\tvalidation_0-aucpr:0.759813\tvalidation_1-aucpr:0.64583\n",
            "[62]\tvalidation_0-aucpr:0.761547\tvalidation_1-aucpr:0.645171\n",
            "[63]\tvalidation_0-aucpr:0.762251\tvalidation_1-aucpr:0.645125\n",
            "[64]\tvalidation_0-aucpr:0.762842\tvalidation_1-aucpr:0.644987\n",
            "[65]\tvalidation_0-aucpr:0.7636\tvalidation_1-aucpr:0.643751\n",
            "[66]\tvalidation_0-aucpr:0.765057\tvalidation_1-aucpr:0.643571\n",
            "[67]\tvalidation_0-aucpr:0.7653\tvalidation_1-aucpr:0.643643\n",
            "[68]\tvalidation_0-aucpr:0.766611\tvalidation_1-aucpr:0.642681\n",
            "[69]\tvalidation_0-aucpr:0.76729\tvalidation_1-aucpr:0.642659\n",
            "[70]\tvalidation_0-aucpr:0.769129\tvalidation_1-aucpr:0.641948\n",
            "[71]\tvalidation_0-aucpr:0.770111\tvalidation_1-aucpr:0.641514\n",
            "[72]\tvalidation_0-aucpr:0.770488\tvalidation_1-aucpr:0.64127\n",
            "[73]\tvalidation_0-aucpr:0.770788\tvalidation_1-aucpr:0.640953\n",
            "[74]\tvalidation_0-aucpr:0.772357\tvalidation_1-aucpr:0.640072\n",
            "[75]\tvalidation_0-aucpr:0.774922\tvalidation_1-aucpr:0.63825\n",
            "[76]\tvalidation_0-aucpr:0.777358\tvalidation_1-aucpr:0.637616\n",
            "[77]\tvalidation_0-aucpr:0.77932\tvalidation_1-aucpr:0.635208\n",
            "[78]\tvalidation_0-aucpr:0.780355\tvalidation_1-aucpr:0.6355\n",
            "[79]\tvalidation_0-aucpr:0.781376\tvalidation_1-aucpr:0.634958\n",
            "[80]\tvalidation_0-aucpr:0.782692\tvalidation_1-aucpr:0.637149\n",
            "[81]\tvalidation_0-aucpr:0.783421\tvalidation_1-aucpr:0.637351\n",
            "[82]\tvalidation_0-aucpr:0.784811\tvalidation_1-aucpr:0.637027\n",
            "[83]\tvalidation_0-aucpr:0.785462\tvalidation_1-aucpr:0.636169\n",
            "[84]\tvalidation_0-aucpr:0.786023\tvalidation_1-aucpr:0.635745\n",
            "[85]\tvalidation_0-aucpr:0.787032\tvalidation_1-aucpr:0.636003\n",
            "[86]\tvalidation_0-aucpr:0.788142\tvalidation_1-aucpr:0.634735\n",
            "[87]\tvalidation_0-aucpr:0.788475\tvalidation_1-aucpr:0.634558\n",
            "[88]\tvalidation_0-aucpr:0.790031\tvalidation_1-aucpr:0.634816\n",
            "[89]\tvalidation_0-aucpr:0.79088\tvalidation_1-aucpr:0.635372\n",
            "[90]\tvalidation_0-aucpr:0.791536\tvalidation_1-aucpr:0.635008\n",
            "[91]\tvalidation_0-aucpr:0.792464\tvalidation_1-aucpr:0.636389\n",
            "[92]\tvalidation_0-aucpr:0.792895\tvalidation_1-aucpr:0.636011\n",
            "[93]\tvalidation_0-aucpr:0.793222\tvalidation_1-aucpr:0.635856\n",
            "[94]\tvalidation_0-aucpr:0.794028\tvalidation_1-aucpr:0.63597\n",
            "[95]\tvalidation_0-aucpr:0.795044\tvalidation_1-aucpr:0.636802\n",
            "[96]\tvalidation_0-aucpr:0.79517\tvalidation_1-aucpr:0.636797\n",
            "[97]\tvalidation_0-aucpr:0.796058\tvalidation_1-aucpr:0.637436\n",
            "[98]\tvalidation_0-aucpr:0.797469\tvalidation_1-aucpr:0.636072\n",
            "[99]\tvalidation_0-aucpr:0.797661\tvalidation_1-aucpr:0.636168\n"
          ]
        },
        {
          "output_type": "execute_result",
          "data": {
            "text/plain": [
              "XGBClassifier(learning_rate=0.3)"
            ]
          },
          "metadata": {},
          "execution_count": 25
        }
      ]
    },
    {
      "cell_type": "code",
      "source": [
        "plot_confusion_matrix(xgb_classifier,\n",
        "                      X_test,\n",
        "                      y_test,\n",
        "                      display_labels=['Did_not_leave','Left']\n",
        "                      )"
      ],
      "metadata": {
        "colab": {
          "base_uri": "https://localhost:8080/",
          "height": 352
        },
        "id": "bfH7EFwda7Go",
        "outputId": "e466c28d-a5bf-498f-dc8a-7ac6098a57a1"
      },
      "execution_count": 26,
      "outputs": [
        {
          "output_type": "stream",
          "name": "stderr",
          "text": [
            "/usr/local/lib/python3.7/dist-packages/sklearn/utils/deprecation.py:87: FutureWarning: Function plot_confusion_matrix is deprecated; Function `plot_confusion_matrix` is deprecated in 1.0 and will be removed in 1.2. Use one of the class methods: ConfusionMatrixDisplay.from_predictions or ConfusionMatrixDisplay.from_estimator.\n",
            "  warnings.warn(msg, category=FutureWarning)\n"
          ]
        },
        {
          "output_type": "execute_result",
          "data": {
            "text/plain": [
              "<sklearn.metrics._plot.confusion_matrix.ConfusionMatrixDisplay at 0x7f22ec986790>"
            ]
          },
          "metadata": {},
          "execution_count": 26
        },
        {
          "output_type": "display_data",
          "data": {
            "image/png": "[encoded data removed]",
            "text/plain": [
              "<Figure size 432x288 with 2 Axes>"
            ]
          },
          "metadata": {
            "needs_background": "light"
          }
        }
      ]
    },
    {
      "cell_type": "code",
      "source": [
        ""
      ],
      "metadata": {
        "id": "jP-wAbOda_Ug"
      },
      "execution_count": null,
      "outputs": []
    }
  ]
}